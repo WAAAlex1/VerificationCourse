{
 "cells": [
  {
   "metadata": {},
   "cell_type": "markdown",
   "source": [
    "**Exercise 1 – Functions & Variables: Temperature Converter**\n",
    "\n",
    "Write a function that converts temperatures between Celsius and Fahrenheit.\n",
    "\n",
    "Input: value (number) and unit ( \"C\" or \"F\" ).\n",
    "\n",
    "Output: converted value.\n",
    "\n",
    "Challenge: Extend the function to support Kelvin ( \"K\" ). Use a dictionary of conversion rules instead of if/else .\n"
   ],
   "id": "6c66fa85fe098f4"
  },
  {
   "metadata": {
    "collapsed": true,
    "ExecuteTime": {
     "end_time": "2025-09-08T08:43:51.358647Z",
     "start_time": "2025-09-08T08:43:51.351245Z"
    }
   },
   "cell_type": "code",
   "source": [
    "def convertTemp(number, Unit):\n",
    "    if(Unit == \"C\"):\n",
    "        return number * 9/5 + 32\n",
    "    elif(Unit == \"F\"):\n",
    "        return (number - 32) * 5/9\n",
    "\n",
    "\n",
    "convertTemp(12, \"F\")"
   ],
   "id": "5732d33671f4e582",
   "outputs": [
    {
     "data": {
      "text/plain": [
       "-11.11111111111111"
      ]
     },
     "execution_count": 3,
     "metadata": {},
     "output_type": "execute_result"
    }
   ],
   "execution_count": 3
  },
  {
   "metadata": {
    "ExecuteTime": {
     "end_time": "2025-09-08T08:56:41.015864Z",
     "start_time": "2025-09-08T08:56:41.009828Z"
    }
   },
   "cell_type": "code",
   "source": [
    "def convertTemp(number, Unit):\n",
    "\n",
    "    convert = dict()\n",
    "\n",
    "    convert = { 'C' : [ 'F = ' + str(number * 9/5 + 32) + \", K = \" + str(number + 273.15)]  ,\n",
    "                'F' : [ 'C = ' + str((number - 32) * 5/9) + \", K = \" + str(number * 5/9 + 273.15)]  ,\n",
    "                'K' : [ 'C = ' + str(number - 273.15) + \", K = \" + str((number - 273.15) * 1.8 + 32)]\n",
    "                }\n",
    "\n",
    "    return convert[Unit]\n",
    "\n",
    "convertTemp(12, \"C\")\n"
   ],
   "id": "5216ac4d54724d56",
   "outputs": [
    {
     "data": {
      "text/plain": [
       "['F = 53.6, K = 285.15']"
      ]
     },
     "execution_count": 8,
     "metadata": {},
     "output_type": "execute_result"
    }
   ],
   "execution_count": 8
  },
  {
   "metadata": {},
   "cell_type": "markdown",
   "source": [
    "**Exercise 2 – Lists & Loops: Even Number Filter**\n",
    "\n",
    "Write a function that takes a list of integers and returns a new list with only the even numbers.\n",
    "\n",
    "- Use a for loop.\n",
    "\n",
    "- Challenge: Rewrite using a list comprehension. Add an optional argument to filter either even or odd numbers.\n"
   ],
   "id": "fc16215e63b3faaa"
  },
  {
   "metadata": {
    "ExecuteTime": {
     "end_time": "2025-09-08T09:01:39.771685Z",
     "start_time": "2025-09-08T09:01:39.763723Z"
    }
   },
   "cell_type": "code",
   "source": [
    "def filter(list):\n",
    "    filtered = []\n",
    "    for item in list:\n",
    "        if(item % 2 == 0):\n",
    "            filtered.append(item)\n",
    "\n",
    "    return filtered\n",
    "\n",
    "filter( (1,2,3,4,5,6,7,8,9,10,12,13,12,19))"
   ],
   "id": "d684a265c4c5ef6e",
   "outputs": [
    {
     "data": {
      "text/plain": [
       "[2, 4, 6, 8, 10, 12, 12]"
      ]
     },
     "execution_count": 9,
     "metadata": {},
     "output_type": "execute_result"
    }
   ],
   "execution_count": 9
  },
  {
   "metadata": {
    "ExecuteTime": {
     "end_time": "2025-09-08T09:18:18.750411Z",
     "start_time": "2025-09-08T09:18:18.745578Z"
    }
   },
   "cell_type": "code",
   "source": [
    "def filter(list, even):\n",
    "    filtered = [ int(x) for x in list if (x % 2 == 0 and even) or (x % 2 != 0 and not even)]\n",
    "    return filtered\n",
    "\n",
    "filter( (1,2,3,4,5,6,7,8,9,10,12,13,12,19), 0)\n"
   ],
   "id": "4db7790de9692aa",
   "outputs": [
    {
     "data": {
      "text/plain": [
       "[1, 3, 5, 7, 9, 13, 19]"
      ]
     },
     "execution_count": 15,
     "metadata": {},
     "output_type": "execute_result"
    }
   ],
   "execution_count": 15
  },
  {
   "metadata": {},
   "cell_type": "markdown",
   "source": [
    "**Exercise 3 – Dictionaries: Word Counter**\n",
    "\n",
    "Write a function that counts how many times each word appears in a given string.\n",
    "\n",
    "Use .split() to separate words.\n",
    "Store results in a dictionary.\n",
    "\n",
    "**Challenge:** Make it case-insensitive and ignore punctuation. Rewrite using dictionary comprehension or collections.Counter .\n"
   ],
   "id": "6cd93dda9e8b8163"
  },
  {
   "metadata": {
    "ExecuteTime": {
     "end_time": "2025-09-08T09:12:18.319305Z",
     "start_time": "2025-09-08T09:12:18.312024Z"
    }
   },
   "cell_type": "code",
   "source": [
    "string = \"Der er et yndigt land, det står med brede bøge nær salten østerstrand nær salten østerstrand. Det bugter sig i bakke, dal, det hedder gamle Danmark, og det er Frejas sal, og det er Frejas sal. Der sad i fordums tid3 de harniskklædte kæmper, udhvilede fra strid udhvilede fra strid. Så drog de frem til fjenders mén, nu hvile deres bene bag højens bautasten, bag højens bautasten. Det land endnu er skønt, thi blå sig søen bælter, og løvet står så grønt og løvet står så grønt. Og ædle kvinder, skønne mø og mænd og raske svende bebo de danskes øer, bebo de danskes øer. Hil drot og fædreland! Hil hver en danneborger, som virker, hvad han kan som virker, hvad han kan! Vort gamle Danmark skal bestå, så længe bøgen spejler sin top i bølgen blå, sin top i bølgen blå. Vort gamle Danmark skal bestå.\"\n",
    "\n",
    "def count(string):\n",
    "    results = dict()\n",
    "    newString = string.lower()\n",
    "    newString = newString.replace(\"!\", \"\")\n",
    "    newString = newString.replace(\",\", \"\")\n",
    "    newString = newString.replace(\".\", \"\")\n",
    "    words = newString.split()\n",
    "\n",
    "    for word in words:\n",
    "        results[word] = words.count(word)\n",
    "\n",
    "    return results\n",
    "\n",
    "count(string)"
   ],
   "id": "ca59e755f4e3770a",
   "outputs": [
    {
     "data": {
      "text/plain": [
       "{'der': 2,\n",
       " 'er': 4,\n",
       " 'et': 1,\n",
       " 'yndigt': 1,\n",
       " 'land': 2,\n",
       " 'det': 6,\n",
       " 'står': 3,\n",
       " 'med': 1,\n",
       " 'brede': 1,\n",
       " 'bøge': 1,\n",
       " 'nær': 2,\n",
       " 'salten': 2,\n",
       " 'østerstrand': 2,\n",
       " 'bugter': 1,\n",
       " 'sig': 2,\n",
       " 'i': 4,\n",
       " 'bakke': 1,\n",
       " 'dal': 1,\n",
       " 'hedder': 1,\n",
       " 'gamle': 3,\n",
       " 'danmark': 3,\n",
       " 'og': 8,\n",
       " 'frejas': 2,\n",
       " 'sal': 2,\n",
       " 'sad': 1,\n",
       " 'fordums': 1,\n",
       " 'tid3': 1,\n",
       " 'de': 4,\n",
       " 'harniskklædte': 1,\n",
       " 'kæmper': 1,\n",
       " 'udhvilede': 2,\n",
       " 'fra': 2,\n",
       " 'strid': 2,\n",
       " 'så': 4,\n",
       " 'drog': 1,\n",
       " 'frem': 1,\n",
       " 'til': 1,\n",
       " 'fjenders': 1,\n",
       " 'mén': 1,\n",
       " 'nu': 1,\n",
       " 'hvile': 1,\n",
       " 'deres': 1,\n",
       " 'bene': 1,\n",
       " 'bag': 2,\n",
       " 'højens': 2,\n",
       " 'bautasten': 2,\n",
       " 'endnu': 1,\n",
       " 'skønt': 1,\n",
       " 'thi': 1,\n",
       " 'blå': 3,\n",
       " 'søen': 1,\n",
       " 'bælter': 1,\n",
       " 'løvet': 2,\n",
       " 'grønt': 2,\n",
       " 'ædle': 1,\n",
       " 'kvinder': 1,\n",
       " 'skønne': 1,\n",
       " 'mø': 1,\n",
       " 'mænd': 1,\n",
       " 'raske': 1,\n",
       " 'svende': 1,\n",
       " 'bebo': 2,\n",
       " 'danskes': 2,\n",
       " 'øer': 2,\n",
       " 'hil': 2,\n",
       " 'drot': 1,\n",
       " 'fædreland': 1,\n",
       " 'hver': 1,\n",
       " 'en': 1,\n",
       " 'danneborger': 1,\n",
       " 'som': 2,\n",
       " 'virker': 2,\n",
       " 'hvad': 2,\n",
       " 'han': 2,\n",
       " 'kan': 2,\n",
       " 'vort': 2,\n",
       " 'skal': 2,\n",
       " 'bestå': 2,\n",
       " 'længe': 1,\n",
       " 'bøgen': 1,\n",
       " 'spejler': 1,\n",
       " 'sin': 2,\n",
       " 'top': 2,\n",
       " 'bølgen': 2}"
      ]
     },
     "execution_count": 13,
     "metadata": {},
     "output_type": "execute_result"
    }
   ],
   "execution_count": 13
  },
  {
   "metadata": {},
   "cell_type": "markdown",
   "source": [
    "**Exercise 4 – Control Loops: Multiplication Table**\n",
    "\n",
    "Write a function that prints a multiplication table up to a given number (e.g., 5 × 5).\n",
    "\n",
    "Use nested for loops.\n",
    "\n",
    "Challenge: Instead of printing, return the table as a nested list using list comprehensions.\n"
   ],
   "id": "1195404065c79589"
  },
  {
   "metadata": {
    "ExecuteTime": {
     "end_time": "2025-09-08T09:30:02.558103Z",
     "start_time": "2025-09-08T09:30:02.550915Z"
    }
   },
   "cell_type": "code",
   "source": [
    "def multTable(n):\n",
    "\n",
    "    result = [[i * j for j in range(1, n + 1)] for i in range(1, n + 1)]\n",
    "\n",
    "    return result\n",
    "\n",
    "multTable(5)\n"
   ],
   "id": "55af01945955e5e3",
   "outputs": [
    {
     "data": {
      "text/plain": [
       "[[1, 2, 3, 4, 5],\n",
       " [2, 4, 6, 8, 10],\n",
       " [3, 6, 9, 12, 15],\n",
       " [4, 8, 12, 16, 20],\n",
       " [5, 10, 15, 20, 25]]"
      ]
     },
     "execution_count": 16,
     "metadata": {},
     "output_type": "execute_result"
    }
   ],
   "execution_count": 16
  },
  {
   "metadata": {},
   "cell_type": "markdown",
   "source": [
    "**Exercise 5 – OOP with Python**\n",
    "\n",
    "Create a base class: shape\n",
    "- Name the base class shape\n",
    "- Add construcor\n",
    "- Add empty member function called area\n",
    "\n",
    "Extend shape to circle\n",
    "- Extend shape to a derived class called circle which has a radius member variable as an int\n",
    "- Add a: function void setRadius(int radius); which set the radius\n",
    "- Add a: function int area(); which computes the area of the circle (Use 3 as a value for Pi)\n",
    "\n",
    "Extend shape to square\n",
    "- Extend shape to a derived class called square which has a length member variable as an int\n",
    "- Add a: function void setLength(int length); which set the length\n",
    "- Add a: function int area(); which computes the area of the square\n",
    "\n",
    "Instantiate circle and square\n",
    "- Write a small propgram which instantiates a circle (named c) and a square handle (named s) and set the radius and length and print the computed area\n",
    "\n",
    "Polymorphism\n",
    "- Create a program which creates a list of shapes and instantiates random number of circles and squares. Then make a loop priting each area and finally the total area of all the shapes.\n",
    "\n"
   ],
   "id": "dd2259cbf8c75230"
  },
  {
   "metadata": {
    "ExecuteTime": {
     "end_time": "2025-09-08T10:04:44.580280Z",
     "start_time": "2025-09-08T10:04:44.574846Z"
    }
   },
   "cell_type": "code",
   "source": [
    "\n",
    "class Shape():\n",
    "    def __init__(self):\n",
    "        pass\n",
    "\n",
    "    def area(self):\n",
    "        pass\n",
    "\n",
    "class Circle(Shape):\n",
    "    def __init__(self):\n",
    "        self.radius = 0\n",
    "\n",
    "    def setRadius(self, x):\n",
    "        self.radius = x\n",
    "\n",
    "    def area(self):\n",
    "        return self.radius * self.radius * 3\n",
    "\n",
    "class Square(Circle):\n",
    "    def __init__(self):\n",
    "        self.length = 0\n",
    "\n",
    "    def setLength(self, x):\n",
    "        self.length = x\n",
    "\n",
    "    def area(self):\n",
    "        return self.length * self.length\n",
    "\n",
    "\n",
    "c = Circle()\n",
    "c.setRadius(3)\n",
    "print(c.area())\n",
    "\n",
    "\n",
    "s = Square()\n",
    "s.setLength(3)\n",
    "print(s.area())\n"
   ],
   "id": "cf63bbe457b3d6a1",
   "outputs": [
    {
     "name": "stdout",
     "output_type": "stream",
     "text": [
      "27\n",
      "9\n"
     ]
    }
   ],
   "execution_count": 28
  },
  {
   "metadata": {
    "ExecuteTime": {
     "end_time": "2025-09-08T10:04:51.271879Z",
     "start_time": "2025-09-08T10:04:51.267801Z"
    }
   },
   "cell_type": "code",
   "source": [
    "import random\n",
    "\n",
    "\n",
    "listOfShapes = []\n",
    "\n",
    "for i in range(1, random.randint(1, 100)):\n",
    "    n = random.randint(1, 3)\n",
    "    if n == 1:\n",
    "        m = Circle()\n",
    "        m.setRadius(random.randint(1, 20))\n",
    "        listOfShapes.append(m)\n",
    "    else:\n",
    "        m = Square()\n",
    "        m.setLength(random.randint(1, 20))\n",
    "        listOfShapes.append(m)\n",
    "\n",
    "totalArea = 0;\n",
    "\n",
    "for shape in listOfShapes:\n",
    "    print(shape.area())\n",
    "    totalArea += shape.area()\n",
    "\n",
    "print(totalArea)\n"
   ],
   "id": "3b1b6bc108359873",
   "outputs": [
    {
     "name": "stdout",
     "output_type": "stream",
     "text": [
      "75\n",
      "1\n",
      "36\n",
      "400\n",
      "144\n",
      "300\n",
      "108\n",
      "256\n",
      "100\n",
      "432\n",
      "867\n",
      "1083\n",
      "196\n",
      "16\n",
      "300\n",
      "147\n",
      "588\n",
      "169\n",
      "75\n",
      "9\n",
      "75\n",
      "363\n",
      "289\n",
      "75\n",
      "27\n",
      "108\n",
      "675\n",
      "81\n",
      "25\n",
      "192\n",
      "64\n",
      "588\n",
      "100\n",
      "225\n",
      "9\n",
      "192\n",
      "675\n",
      "3\n",
      "81\n",
      "768\n",
      "16\n",
      "225\n",
      "100\n",
      "121\n",
      "361\n",
      "9\n",
      "867\n",
      "361\n",
      "361\n",
      "768\n",
      "400\n",
      "75\n",
      "144\n",
      "169\n",
      "1\n",
      "1\n",
      "64\n",
      "363\n",
      "36\n",
      "144\n",
      "48\n",
      "75\n",
      "192\n",
      "14818\n"
     ]
    }
   ],
   "execution_count": 31
  }
 ],
 "metadata": {
  "kernelspec": {
   "display_name": "Python 3",
   "language": "python",
   "name": "python3"
  },
  "language_info": {
   "codemirror_mode": {
    "name": "ipython",
    "version": 2
   },
   "file_extension": ".py",
   "mimetype": "text/x-python",
   "name": "python",
   "nbconvert_exporter": "python",
   "pygments_lexer": "ipython2",
   "version": "2.7.6"
  }
 },
 "nbformat": 4,
 "nbformat_minor": 5
}
